{
 "cells": [
  {
   "cell_type": "markdown",
   "id": "e5ee7ab4-e1ce-4696-94e9-a9fcfd5fc27f",
   "metadata": {},
   "source": [
    "Q1.Explain Class and Object with respect to Object-Oriented Programming. Give a suitable example."
   ]
  },
  {
   "cell_type": "markdown",
   "id": "45005a87-73eb-498a-b2d2-81b9267744e0",
   "metadata": {},
   "source": [
    "Class - class is a group of object which shares common characteristics/ behavior and common properties/ attributes. it is a blueprint for creating objects."
   ]
  },
  {
   "cell_type": "markdown",
   "id": "afcb55d8-4c3b-44ad-8fcd-1dde9d503edb",
   "metadata": {},
   "source": [
    "Object - As the name suggests, Object Oriented Programming or OOPs refers to languages that use objects in programming. It is an entity that has a state and behavior associated with it. It may be any real-world object like a mouse, keyboard, chair, table, pen, etc. Integers, strings, floating-point numbers and dictionaries, are all objects. More specifically, any single integer or any single string is an object. "
   ]
  },
  {
   "cell_type": "markdown",
   "id": "3d188fee-f97e-45ea-a208-fcdfce020ecb",
   "metadata": {},
   "source": [
    "Example\n",
    "let's consider a class student with attributes name, age, standard and school.\n",
    "\n",
    "A student with name = 'Harit Patel', age = 18, standard = 12, school = 'vivek modi school'\n",
    "\n",
    "Here the particular student Harit Patel is an object of the class student or Harit Patel is an instance of the class student."
   ]
  },
  {
   "cell_type": "markdown",
   "id": "e05459f2-ea55-4622-9f76-1c87b54e97aa",
   "metadata": {},
   "source": [
    "Q2.Name the four pillars of OOPs."
   ]
  },
  {
   "cell_type": "markdown",
   "id": "1d18f1b6-f478-439c-b173-f3fbd7dd051b",
   "metadata": {},
   "source": [
    "The four pillars of OOPs are Encapsulation, Inheritance, Abstraction & Polymorphism."
   ]
  },
  {
   "cell_type": "markdown",
   "id": "7896c8f6-3e82-4a65-b93f-0ba0ecf816c4",
   "metadata": {},
   "source": [
    "Q3.Explain why the __init__() function is used. Give a suitable example."
   ]
  },
  {
   "cell_type": "markdown",
   "id": "b4f20863-d874-444b-9640-74b50e8c1543",
   "metadata": {},
   "source": [
    "__init__() is a method which is termed as constructor that takes self argument with a function call and initializes the attribute of the instance of the class at the time of creating it. "
   ]
  },
  {
   "cell_type": "code",
   "execution_count": 5,
   "id": "92936e6c-ab1e-4e79-8cce-f756ad3a5fe0",
   "metadata": {},
   "outputs": [],
   "source": [
    "class school():\n",
    "    def __init__(self,name,standard,school):\n",
    "        self.name = name\n",
    "        self.standard = standard\n",
    "        self.school = school\n",
    "        \n",
    "    def student_info(self):\n",
    "        return self.name,self.standard,self.school"
   ]
  },
  {
   "cell_type": "code",
   "execution_count": 7,
   "id": "77b30d9e-0190-4838-81a9-dfdaba13c9af",
   "metadata": {},
   "outputs": [],
   "source": [
    "r= school('Raj',10,'DYPatil')"
   ]
  },
  {
   "cell_type": "code",
   "execution_count": 10,
   "id": "50ed9adf-1d78-41fe-ae20-f61531b78c61",
   "metadata": {},
   "outputs": [
    {
     "data": {
      "text/plain": [
       "('Raj', 10, 'DYPatil')"
      ]
     },
     "execution_count": 10,
     "metadata": {},
     "output_type": "execute_result"
    }
   ],
   "source": [
    "r.student_info()"
   ]
  },
  {
   "cell_type": "markdown",
   "id": "e09bf2c9-8f64-4784-b3c9-70d43b87cf11",
   "metadata": {},
   "source": [
    "Q4.Why self is used in OOPs?"
   ]
  },
  {
   "cell_type": "markdown",
   "id": "1d3377fa-dcd8-4454-9b46-974beb31082d",
   "metadata": {},
   "source": [
    "self represents the instance of the class. By using the “self”  we can access the attributes and methods of the class in python. It binds the attributes with the given arguments.Python does not use the @ syntax to refer to instance attributes. Python decided to do methods in a way that makes the instance to which the method belongs be passed automatically, but not received automatically: the first parameter of methods is the instance the method is called on."
   ]
  },
  {
   "cell_type": "markdown",
   "id": "acce9906-a672-43cd-b17f-a85644392a5d",
   "metadata": {},
   "source": [
    "Q5.What is inheritance? Give an example for each type of inheritance."
   ]
  },
  {
   "cell_type": "markdown",
   "id": "6bd7c9b5-15ea-4621-9519-6a947a339533",
   "metadata": {},
   "source": [
    "Inheritance is defined as the mechanism of inheriting the properties of the base class to the child class."
   ]
  },
  {
   "cell_type": "markdown",
   "id": "56fe1338-2698-4ebb-859c-b04877cb568e",
   "metadata": {},
   "source": [
    "There are 5 types of inheritance."
   ]
  },
  {
   "cell_type": "markdown",
   "id": "3af331b0-0d2a-4efd-9925-16dabce8ac89",
   "metadata": {},
   "source": [
    "Single Inheritance: \n",
    "Single inheritance enables a derived class to inherit properties from a single parent class, thus enabling code reusability and the addition of new features to existing code."
   ]
  },
  {
   "cell_type": "code",
   "execution_count": 11,
   "id": "26078797-b000-4a71-bc28-db18fac9f633",
   "metadata": {},
   "outputs": [],
   "source": [
    "class Parent:\n",
    "    def func1(self):\n",
    "        print(\"This function is in parent class.\")\n",
    " \n",
    " \n",
    "class Child(Parent):\n",
    "    def func2(self):\n",
    "        print(\"This function is in child class.\")"
   ]
  },
  {
   "cell_type": "code",
   "execution_count": 12,
   "id": "14ad9ca5-e82b-406f-bcc8-2eb9318df733",
   "metadata": {},
   "outputs": [
    {
     "name": "stdout",
     "output_type": "stream",
     "text": [
      "This function is in parent class.\n",
      "This function is in child class.\n"
     ]
    }
   ],
   "source": [
    "object = Child()\n",
    "object.func1()\n",
    "object.func2()"
   ]
  },
  {
   "cell_type": "markdown",
   "id": "1c79dbd9-01f7-4dba-8628-e7125757e5d7",
   "metadata": {},
   "source": [
    "Multiple Inheritance: \n",
    "When a class can be derived from more than one base class this type of inheritance is called multiple inheritances. In multiple inheritances, all the features of the base classes are inherited into the derived class. "
   ]
  },
  {
   "cell_type": "code",
   "execution_count": 13,
   "id": "430957ba-1ccf-42e9-b3f6-8373b90bb91d",
   "metadata": {},
   "outputs": [],
   "source": [
    "class Mother:\n",
    "    mothername = \"\"\n",
    " \n",
    "    def mother(self):\n",
    "        print(self.mothername)\n",
    " \n",
    " \n",
    "class Father:\n",
    "    fathername = \"\"\n",
    " \n",
    "    def father(self):\n",
    "        print(self.fathername)\n",
    "        \n",
    "class Son(Mother, Father):\n",
    "    def parents(self):\n",
    "        print(\"Father :\", self.fathername)\n",
    "        print(\"Mother :\", self.mothername)"
   ]
  },
  {
   "cell_type": "code",
   "execution_count": 14,
   "id": "70910d20-c942-42cf-87ea-5589b01aef9e",
   "metadata": {},
   "outputs": [
    {
     "name": "stdout",
     "output_type": "stream",
     "text": [
      "Father : RAM\n",
      "Mother : SITA\n"
     ]
    }
   ],
   "source": [
    "s1 = Son()\n",
    "s1.fathername = \"RAM\"\n",
    "s1.mothername = \"SITA\"\n",
    "s1.parents()"
   ]
  },
  {
   "cell_type": "markdown",
   "id": "66428597-d0c5-497f-959f-5562713b4483",
   "metadata": {},
   "source": [
    "Multilevel Inheritance :\n",
    "In multilevel inheritance, features of the base class and the derived class are further inherited into the new derived class. This is similar to a relationship representing a child and a grandfather. "
   ]
  },
  {
   "cell_type": "code",
   "execution_count": 15,
   "id": "3388fd46-9049-4628-82e0-e2213dc5f301",
   "metadata": {},
   "outputs": [],
   "source": [
    "class Grandfather:\n",
    " \n",
    "    def __init__(self, grandfathername):\n",
    "        self.grandfathername = grandfathername\n",
    " \n",
    "class Father(Grandfather):\n",
    "    def __init__(self, fathername, grandfathername):\n",
    "        self.fathername = fathername\n",
    " \n",
    "        \n",
    "        Grandfather.__init__(self, grandfathername)\n",
    " \n",
    "class Son(Father):\n",
    "    def __init__(self, sonname, fathername, grandfathername):\n",
    "        self.sonname = sonname\n",
    " \n",
    "        \n",
    "        Father.__init__(self, fathername, grandfathername)\n",
    " \n",
    "    def print_name(self):\n",
    "        print('Grandfather name :', self.grandfathername)\n",
    "        print(\"Father name :\", self.fathername)\n",
    "        print(\"Son name :\", self.sonname)"
   ]
  },
  {
   "cell_type": "code",
   "execution_count": 16,
   "id": "7fb7a67b-299e-4ab8-972d-9ad5284f94a8",
   "metadata": {},
   "outputs": [
    {
     "name": "stdout",
     "output_type": "stream",
     "text": [
      "Lal mani\n",
      "Grandfather name : Lal mani\n",
      "Father name : Rampal\n",
      "Son name : Prince\n"
     ]
    }
   ],
   "source": [
    "s1 = Son('Prince', 'Rampal', 'Lal mani')\n",
    "print(s1.grandfathername)\n",
    "s1.print_name()"
   ]
  },
  {
   "cell_type": "markdown",
   "id": "e8554503-d1ce-4895-bc68-a32afa441429",
   "metadata": {},
   "source": [
    "Hierarchical Inheritance: \n",
    "When more than one derived class are created from a single base this type of inheritance is called hierarchical inheritance. In this program, we have a parent (base) class and two child (derived) classes."
   ]
  },
  {
   "cell_type": "code",
   "execution_count": 17,
   "id": "92e50577-a1eb-458f-9f63-86b36fda7d6c",
   "metadata": {},
   "outputs": [],
   "source": [
    "class Parent:\n",
    "    def func1(self):\n",
    "        print(\"This function is in parent class.\")\n",
    " \n",
    " \n",
    "class Child1(Parent):\n",
    "    def func2(self):\n",
    "        print(\"This function is in child 1.\")\n",
    " \n",
    " \n",
    "class Child2(Parent):\n",
    "    def func3(self):\n",
    "        print(\"This function is in child 2.\")"
   ]
  },
  {
   "cell_type": "code",
   "execution_count": 19,
   "id": "df2d70a3-6b2a-4869-a40c-73ebb3dad13c",
   "metadata": {},
   "outputs": [
    {
     "name": "stdout",
     "output_type": "stream",
     "text": [
      "This function is in parent class.\n",
      "This function is in child 1.\n",
      "This function is in parent class.\n",
      "This function is in child 2.\n"
     ]
    }
   ],
   "source": [
    "object1 = Child1()\n",
    "object1.func1()\n",
    "object1.func2()\n",
    "object2 = Child2()\n",
    "object2.func1()\n",
    "object2.func3()"
   ]
  },
  {
   "cell_type": "markdown",
   "id": "41291e76-d69f-45a5-b4a8-d67c3f5b5d60",
   "metadata": {},
   "source": [
    "Hybrid Inheritance: \n",
    "Inheritance consisting of multiple types of inheritance is called hybrid inheritance."
   ]
  },
  {
   "cell_type": "code",
   "execution_count": 20,
   "id": "6d04042c-91c1-4d4d-b490-d83bded3b71c",
   "metadata": {},
   "outputs": [],
   "source": [
    "class School:\n",
    "    def func1(self):\n",
    "        print(\"This function is in school.\")\n",
    " \n",
    " \n",
    "class Student1(School):\n",
    "    def func2(self):\n",
    "        print(\"This function is in student 1. \")\n",
    " \n",
    " \n",
    "class Student2(School):\n",
    "    def func3(self):\n",
    "        print(\"This function is in student 2.\")\n",
    " \n",
    " \n",
    "class Student3(Student1, School):\n",
    "    def func4(self):\n",
    "        print(\"This function is in student 3.\")"
   ]
  },
  {
   "cell_type": "code",
   "execution_count": 21,
   "id": "537a2beb-01b8-4ce9-a41f-720227948d48",
   "metadata": {},
   "outputs": [
    {
     "name": "stdout",
     "output_type": "stream",
     "text": [
      "This function is in school.\n",
      "This function is in student 1. \n"
     ]
    }
   ],
   "source": [
    "object = Student3()\n",
    "object.func1()\n",
    "object.func2()"
   ]
  },
  {
   "cell_type": "code",
   "execution_count": null,
   "id": "e8750b90-dc3f-4f45-985e-5968d6b49682",
   "metadata": {},
   "outputs": [],
   "source": []
  }
 ],
 "metadata": {
  "kernelspec": {
   "display_name": "Python 3 (ipykernel)",
   "language": "python",
   "name": "python3"
  },
  "language_info": {
   "codemirror_mode": {
    "name": "ipython",
    "version": 3
   },
   "file_extension": ".py",
   "mimetype": "text/x-python",
   "name": "python",
   "nbconvert_exporter": "python",
   "pygments_lexer": "ipython3",
   "version": "3.10.8"
  }
 },
 "nbformat": 4,
 "nbformat_minor": 5
}
